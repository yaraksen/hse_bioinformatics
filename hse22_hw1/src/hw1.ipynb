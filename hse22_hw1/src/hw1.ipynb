{
 "cells": [
  {
   "cell_type": "code",
   "execution_count": 6,
   "metadata": {},
   "outputs": [],
   "source": [
    "import re"
   ]
  },
  {
   "cell_type": "code",
   "execution_count": 7,
   "metadata": {},
   "outputs": [],
   "source": [
    "def examine(fd):\n",
    "    data = {\n",
    "        'all_lengths': [],\n",
    "        'seq_max': '',\n",
    "        'q': 0,\n",
    "        'max_length': 0,\n",
    "        'full_length': 0,\n",
    "    }\n",
    "    length = 0\n",
    "    curr_sequence = ''\n",
    "    for line in fd:\n",
    "        if line[0] != '>':\n",
    "            stripped = line.strip()\n",
    "            length += len(stripped)\n",
    "            curr_sequence += stripped\n",
    "            data['full_length'] += len(stripped)\n",
    "        else:\n",
    "            if data['q']:\n",
    "                data['all_lengths'].append(length)\n",
    "            data['q'] += 1\n",
    "            if data['max_length'] <= length:\n",
    "                data['seq_max'] = curr_sequence\n",
    "            data['max_length'] = max(data['max_length'], length)\n",
    "            length = 0\n",
    "            curr_sequence = ''\n",
    "    return data"
   ]
  },
  {
   "cell_type": "code",
   "execution_count": 8,
   "metadata": {},
   "outputs": [
    {
     "name": "stdout",
     "output_type": "stream",
     "text": [
      "Contigs:\n",
      "    Quantity: 625\n",
      "    Length: 3926667\n",
      "    Max length: 179307\n",
      "    N50: 53978\n",
      "\n"
     ]
    }
   ],
   "source": [
    "data = examine(open('Poil_contig.fa', 'r'))\n",
    "n50, tmp = 0, 0\n",
    "for n50 in sorted(data['all_lengths'])[::-1]:\n",
    "    tmp += n50\n",
    "    if data['full_length'] / 2 <= tmp:\n",
    "        break\n",
    "print('Contigs:')\n",
    "print(f\"    Quantity: {data['q']}\\n    Length: {data['full_length']}\\n    Max length: {data['max_length']}\\n    N50: {n50}\\n\")\n"
   ]
  },
  {
   "cell_type": "code",
   "execution_count": 9,
   "metadata": {},
   "outputs": [
    {
     "name": "stdout",
     "output_type": "stream",
     "text": [
      "Scaffolds:\n",
      "    Quantity: 71\n",
      "    Length: 3874465\n",
      "    Max length: 3838891\n",
      "    N50: 3838891\n",
      "\n",
      "    Gap quantity: 62\n",
      "    Gaps' length: 8017\n"
     ]
    }
   ],
   "source": [
    "data = examine(open('Poil_scaffold.fa', 'r'))\n",
    "n50, tmp = 0, 0\n",
    "for n50 in sorted(data['all_lengths'])[::-1]:\n",
    "    tmp += n50\n",
    "    if data['full_length'] / 2 <= tmp:\n",
    "        break\n",
    "print('Scaffolds:')\n",
    "print(f\"    Quantity: {data['q']}\\n    Length: {data['full_length']}\\n    Max length: {data['max_length']}\\n    N50: {n50}\\n\")\n",
    "print(f\"    Gap quantity: {re.sub(r'N{2,}', 'N', data['seq_max']).count('N')}\\n    Gaps' length: {data['seq_max'].count('N')}\")"
   ]
  },
  {
   "cell_type": "code",
   "execution_count": 10,
   "metadata": {},
   "outputs": [
    {
     "name": "stdout",
     "output_type": "stream",
     "text": [
      "    Gap quantity: 8\n",
      "    Gaps' length: 2953\n"
     ]
    }
   ],
   "source": [
    "data = examine(open('Poil_gapClosed.fa', 'r'))\n",
    "print(f\"    Gap quantity: {re.sub(r'N{2,}', 'N', data['seq_max']).count('N')}\\n    Gaps' length: {data['seq_max'].count('N')}\")\n",
    "\n",
    "file = open('longest.fa', 'w')\n",
    "file.write(data['seq_max'])\n",
    "file.close()"
   ]
  }
 ],
 "metadata": {
  "kernelspec": {
   "display_name": "Python 3.8.9 64-bit",
   "language": "python",
   "name": "python3"
  },
  "language_info": {
   "codemirror_mode": {
    "name": "ipython",
    "version": 3
   },
   "file_extension": ".py",
   "mimetype": "text/x-python",
   "name": "python",
   "nbconvert_exporter": "python",
   "pygments_lexer": "ipython3",
   "version": "3.10.4"
  },
  "orig_nbformat": 4,
  "vscode": {
   "interpreter": {
    "hash": "31f2aee4e71d21fbe5cf8b01ff0e069b9275f58929596ceb00d14d90e3e16cd6"
   }
  }
 },
 "nbformat": 4,
 "nbformat_minor": 2
}
